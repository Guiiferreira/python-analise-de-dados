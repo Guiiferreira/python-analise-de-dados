{
  "nbformat": 4,
  "nbformat_minor": 0,
  "metadata": {
    "colab": {
      "provenance": [],
      "toc_visible": true
    },
    "kernelspec": {
      "name": "python3",
      "display_name": "Python 3"
    },
    "language_info": {
      "name": "python"
    }
  },
  "cells": [
    {
      "cell_type": "code",
      "source": [
        "print('bem vindo ao curso de python')"
      ],
      "metadata": {
        "colab": {
          "base_uri": "https://localhost:8080/"
        },
        "id": "1ycJDn35XT4L",
        "outputId": "56668a11-265c-44d9-e816-476e93a6da99"
      },
      "execution_count": 1,
      "outputs": [
        {
          "output_type": "stream",
          "name": "stdout",
          "text": [
            "bem vindo ao curso de python\n"
          ]
        }
      ]
    },
    {
      "cell_type": "code",
      "source": [
        "print(\"Bem vindo ao curso de python\")"
      ],
      "metadata": {
        "colab": {
          "base_uri": "https://localhost:8080/"
        },
        "id": "Qw7aL497YquG",
        "outputId": "62adc85f-d0eb-49a7-cd37-5ef226b1e47f"
      },
      "execution_count": 3,
      "outputs": [
        {
          "output_type": "stream",
          "name": "stdout",
          "text": [
            "Bem vindo ao curso de python\n"
          ]
        }
      ]
    },
    {
      "cell_type": "code",
      "source": [
        "#comentário !!!!"
      ],
      "metadata": {
        "id": "oUA3ac56YxIp"
      },
      "execution_count": 7,
      "outputs": []
    },
    {
      "cell_type": "code",
      "source": [
        "print('olá mundão! \\nPulou  \\n uma \\n Linha!' )"
      ],
      "metadata": {
        "colab": {
          "base_uri": "https://localhost:8080/"
        },
        "id": "FwbYcPEXY7ax",
        "outputId": "4f964d63-a00c-4db9-971d-6815e501c673"
      },
      "execution_count": 8,
      "outputs": [
        {
          "output_type": "stream",
          "name": "stdout",
          "text": [
            "olá mundão! \n",
            "Pulou  \n",
            " uma \n",
            " Linha!\n"
          ]
        }
      ]
    },
    {
      "cell_type": "code",
      "source": [],
      "metadata": {
        "id": "Q-Er__muaIWz"
      },
      "execution_count": null,
      "outputs": []
    }
  ]
}